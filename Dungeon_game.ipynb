{
 "cells": [
  {
   "cell_type": "markdown",
   "metadata": {},
   "source": [
    "### Dungeon Egg Hunt\n",
    "\n",
    "Using object-oriented programming principles, create an egg hunt game. Your objective is to go through the dungeon to collect the basket and the eggs. Once you've retrieved all of the items, exit through the door.\n",
    "\n",
    "**RULES**:\n",
    "\n",
    "`1. ` Player, Monster, Door, Basket and the 3 Eggs must all start at a random locations on a grid.\n",
    "\n",
    "`2. ` Player must collect the Basket first before collecting the 3 Eggs. Player will not be able to collect any Eggs until it first has collected the Basket.\n",
    "\n",
    "`3. ` Once Player collects the Basket, then and only then will it be able to collect any Eggs.\n",
    "\n",
    "`4. ` When Player collects the Basket and the 3 Eggs, Player will need to head toward the Door.\n",
    "\n",
    "`5. ` The entire time the Player is searching for the Eggs, Basket and the Door, there will be a Monster trying to eat the Player.\n",
    "\n",
    "`6. ` If the Monster lands on the same space as the Player, or the Player lands on the same space as the Monster, the game ends and the game will prompt the user to play again.\n",
    "\n",
    "`7. ` If Player reaches the Door before the Monster catches them, you win the game and the game will prompt the user to play again.\n",
    "\n",
    "`8. ` The Player does not know where any of the other tokens are, so all of the tokens with the exception of the Player will be hidden.\n",
    "\n",
    "**Note**: For debugging purposes, you can create tokens for each of the other tokens. For example:<br>\n",
    "* Player (P)\n",
    "* Monster (M)\n",
    "* Eggs (O)\n",
    "* Basket (U)\n",
    "* Door (D)"
   ]
  },
  {
   "cell_type": "code",
   "execution_count": 9,
   "metadata": {},
   "outputs": [
    {
     "name": "stdout",
     "output_type": "stream",
     "text": [
      "\n",
      "[(0, 0), (1, 0), (2, 0), (3, 0), (4, 0)]\n",
      "\n",
      "[(0, 1), (1, 1), (2, 1), (3, 1), (4, 1)]\n",
      "\n",
      "[(0, 2), (1, 2), (2, 2), (3, 2), (4, 2)]\n",
      "\n",
      "[(0, 3), (1, 3), (2, 3), (3, 3), (4, 3)]\n",
      "\n",
      "[(0, 4), (1, 4), (2, 4), (3, 4), (4, 4)]\n"
     ]
    }
   ],
   "source": [
    "CELLS = [\n",
    "    (0,0),(1,0),(2,0),(3,0),(4,0),\n",
    "    (0,1),(1,1),(2,1),(3,1),(4,1),\n",
    "    (0,2),(1,2),(2,2),(3,2),(4,2),\n",
    "    (0,3),(1,3),(2,3),(3,3),(4,3),\n",
    "    (0,4),(1,4),(2,4),(3,4),(4,4),\n",
    "  ]\n",
    "print(f'\\n{CELLS[0:5]}\\n\\n{CELLS[5:10]}\\n\\n{CELLS[10:15]}\\n\\n{CELLS[15:20]}\\n\\n{CELLS[20:25]}')\n",
    "\n",
    "      \n",
    "class Game:\n",
    "    def __init__(self):\n",
    "        pass\n",
    "        \n",
    "    def drawMap(self):\n",
    "        for cell in self.CELLS:\n",
    "            pass\n",
    "    \n",
    "class Token:\n",
    "    def __init__(self):\n",
    "        pass\n",
    "    \n",
    "class Player(Token):\n",
    "    pass\n",
    "\n",
    "class Monster(Token):\n",
    "    pass\n",
    "\n",
    "class Egg(Token):\n",
    "    pass\n",
    "\n",
    "class Basket(Token):\n",
    "    pass\n",
    "\n",
    "class Door(Token):\n",
    "    pass"
   ]
  }
 ],
 "metadata": {
  "kernelspec": {
   "display_name": "Python 3 (ipykernel)",
   "language": "python",
   "name": "python3"
  },
  "language_info": {
   "codemirror_mode": {
    "name": "ipython",
    "version": 3
   },
   "file_extension": ".py",
   "mimetype": "text/x-python",
   "name": "python",
   "nbconvert_exporter": "python",
   "pygments_lexer": "ipython3",
   "version": "3.9.7"
  }
 },
 "nbformat": 4,
 "nbformat_minor": 2
}
